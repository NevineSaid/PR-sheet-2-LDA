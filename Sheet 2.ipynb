{
 "cells": [
  {
   "cell_type": "markdown",
   "metadata": {},
   "source": [
    "<h1><center>Sheet 2</center></h1>"
   ]
  },
  {
   "cell_type": "markdown",
   "metadata": {},
   "source": [
    "## Question 1\n",
    "### a) Verify u1 and u2 are orthogonal"
   ]
  },
  {
   "cell_type": "markdown",
   "metadata": {},
   "source": [
    "$u1^T . u2 = \\begin{bmatrix}3&4&0\\end{bmatrix} * \\begin{bmatrix}-4\\\\3\\\\0\\end{bmatrix} = 0$"
   ]
  },
  {
   "cell_type": "markdown",
   "metadata": {},
   "source": [
    "### b) Find the projection of the point y=[6,3,-2] T on u1 and u2"
   ]
  },
  {
   "cell_type": "markdown",
   "metadata": {},
   "source": [
    "##### projection of y on u1: <br>\n",
    "$y . u1\\over{norm(u1)^2}$ $.u1 $ <br><br>\n",
    "$y.u1 = \\begin{bmatrix}6&3&-2\\end{bmatrix} * \\begin{bmatrix}3\\\\4\\\\0\\end{bmatrix}= 30$ <br><br>\n",
    "$ 30\\over{3^2+4^2}$ $ = 1.2$<br>\n",
    "projection is: $1.2 * \\begin{bmatrix}3\\\\4\\\\0\\end{bmatrix} = \\begin{bmatrix}3.6\\\\4.8\\\\0\\end{bmatrix}$\n",
    "\n",
    "##### projection y on u2: \n",
    "<br>\n",
    "$y . u2\\over{norm(u2)^2}$ $.u2 $ <br><br>\n",
    "$y.u2 = \\begin{bmatrix}6&3&-2\\end{bmatrix} * \\begin{bmatrix}-4\\\\3\\\\0\\end{bmatrix}= -15$ <br><br>\n",
    "$ -15\\over{3^2+4^2}$ $ = -0.6$<br>\n",
    "projection is: $-0.6 * \\begin{bmatrix}-4\\\\3\\\\0\\end{bmatrix} = \\begin{bmatrix}2.4\\\\-1.8\\\\0\\end{bmatrix}$"
   ]
  },
  {
   "cell_type": "markdown",
   "metadata": {},
   "source": [
    "## Question 2\n",
    "### For the data on two class problem\n",
    "### a) Compute μ +1 and μ −1 , and B , the between-class scatter matrix."
   ]
  },
  {
   "cell_type": "markdown",
   "metadata": {},
   "source": [
    "circles = (5,4), (6,5), (7,4), (7,5), (8,2), (9,4)<br>\n",
    "triangles = (2,3), (3,3), (3,4), (5,8), (7,7) <br> \n",
    "$\\mu_{circ} = \\begin{bmatrix}7\\\\4\\end{bmatrix} $ <br>\n",
    "$\\mu_{tri} = \\begin{bmatrix}4\\\\5\\end{bmatrix} $<br> <br>\n",
    "$B = (\\mu_{tri} - \\mu_{circ}) * (\\mu_{tri} - \\mu_{circ})^T = \\begin{bmatrix}-3\\\\1\\end{bmatrix} * \\begin{bmatrix}-3&1\\end{bmatrix} = \\begin{bmatrix}9&-3\\\\-3&1\\end{bmatrix}   $"
   ]
  },
  {
   "cell_type": "markdown",
   "metadata": {},
   "source": [
    "### b) Find the best direction w that discriminates between the classes and sketch it."
   ]
  },
  {
   "cell_type": "markdown",
   "metadata": {},
   "source": [
    "$ S^{-1} = \\begin{bmatrix}0.056&-0.029\\\\-0.029&0.052\\end{bmatrix} $ <br> <br>\n",
    "$ S^{-1} * B = \\begin{bmatrix}0.592&-0.197\\\\-0.417&0.139\\end{bmatrix} $"
   ]
  },
  {
   "cell_type": "code",
   "execution_count": 10,
   "metadata": {},
   "outputs": [
    {
     "name": "stdout",
     "output_type": "stream",
     "text": [
      "[7.30809800e-01 1.90199967e-04]\n",
      "[[ 0.81745441  0.31583825]\n",
      " [-0.57599331  0.94881305]]\n",
      "Best W is\n",
      " [[ 0.81745441]\n",
      " [-0.57599331]]\n"
     ]
    },
    {
     "data": {
      "image/png": "[encoded data removed]",
      "text/plain": [
       "<Figure size 432x288 with 1 Axes>"
      ]
     },
     "metadata": {
      "needs_background": "light"
     },
     "output_type": "display_data"
    }
   ],
   "source": [
    "import numpy as np\n",
    "import matplotlib.pyplot as plt\n",
    "arr = np.array([[0.592, -0.197],[-0.417,0.139]])\n",
    "values, vectors = np.linalg.eig(arr)\n",
    "print(values)\n",
    "print(vectors)\n",
    "print('Best W is\\n', vectors[:,:1])\n",
    "circles = np.array([[5,4],[6,5], [7,4],[7,5],[8,2],[9,4]])\n",
    "triangles = np.array([[2,3], [3,3], [3,4], [5,8], [7,7] ])\n",
    "# print(circles)\n",
    "plt.scatter(circles[:,0],circles[:,1])\n",
    "plt.scatter(triangles[:,0],triangles[:,1])\n",
    "w = vectors[:,:1]\n",
    "w = np.array(w)\n",
    "w = w.reshape(1,2)\n",
    "start = [3], [6] # origin point\n",
    "plt.quiver(*start, w[0][0],w[0][1],scale=2)\n",
    "\n",
    "plt.show()\n"
   ]
  },
  {
   "cell_type": "markdown",
   "metadata": {},
   "source": [
    "## Question 3\n",
    "### a) Compute μ +1 and μ −1 , and B , the between-class scatter matrix."
   ]
  },
  {
   "cell_type": "markdown",
   "metadata": {},
   "source": [
    "$\\mu_{+1} = \\begin{bmatrix}3.75\\\\3.45\\end{bmatrix}$ <br> <br> \n",
    "$\\mu_{-1} = \\begin{bmatrix}2.25\\\\1.55\\end{bmatrix}$<br><br>\n",
    "$\\mu_{+1} - \\mu_{-1} = \\begin{bmatrix}1.5\\\\1.9\\end{bmatrix}$ <br><br>\n",
    "$ B = (\\mu_{+1} - \\mu_{-1}) * (\\mu_{+1} - \\mu_{-1})^T =\\begin{bmatrix}2.25&2.85\\\\2.85&3.61\\end{bmatrix} $"
   ]
  },
  {
   "cell_type": "markdown",
   "metadata": {},
   "source": [
    "### b) Compute S +1 and S −1 , and S , the within-class scatter matrix."
   ]
  },
  {
   "cell_type": "markdown",
   "metadata": {},
   "source": [
    "$Z_{+1} = D_{+1} - \\mu_{+1} = \\begin{bmatrix}0.25&-0.25\\\\-0.55&0.55\\end{bmatrix} $ <br><br>\n",
    "$Z_{-1} = D_{-1} - \\mu_{-1} = \\begin{bmatrix}0.25&-0.25\\\\-0.25&0.55\\end{bmatrix} $ <br><br>\n",
    "$S_{+1} = Z_{+1} Z_{+1}^T $\n"
   ]
  },
  {
   "cell_type": "code",
   "execution_count": 2,
   "metadata": {},
   "outputs": [
    {
     "name": "stdout",
     "output_type": "stream",
     "text": [
      "S +1=\n",
      " [[ 0.125 -0.275]\n",
      " [-0.275  0.605]]\n",
      "\n",
      "\n",
      "S -1=\n",
      " [[ 0.125 -0.275]\n",
      " [-0.275  0.605]]\n",
      "\n",
      "\n",
      "S = S +1 + S -1 =\n",
      " [[ 0.25 -0.55]\n",
      " [-0.55  1.21]]\n"
     ]
    }
   ],
   "source": [
    "import numpy as np\n",
    "Z1 = np.array([[0.25,-0.25],[-0.55,0.55]])\n",
    "S1 = np.dot(Z1,Z1.T)\n",
    "print('S +1=\\n',S1)\n",
    "print('\\n')\n",
    "Z2 = np.array([[0.25,-0.25],[-0.55,0.55]])\n",
    "S2 = np.dot(Z2,Z2.T)\n",
    "print('S -1=\\n',S2)\n",
    "print('\\n')\n",
    "S = S1 + S2\n",
    "print('S = S +1 + S -1 =\\n',S)"
   ]
  },
  {
   "cell_type": "markdown",
   "metadata": {},
   "source": [
    "### c) Find the best direction w that discriminates between the classes."
   ]
  },
  {
   "cell_type": "code",
   "execution_count": 4,
   "metadata": {},
   "outputs": [
    {
     "name": "stdout",
     "output_type": "stream",
     "text": [
      "[0.         0.84237193]\n",
      "[[-0.78488277  0.41380294]\n",
      " [ 0.61964429 -0.91036648]]\n",
      "Best W is:\n",
      " [[-0.78488277]\n",
      " [ 0.61964429]]\n"
     ]
    }
   ],
   "source": [
    "S_inv = np.linalg.pinv(S)\n",
    "B = np.array([[2.25,2.85],[2.85,3.61]])\n",
    "mult = np.dot(S_inv, B)\n",
    "\n",
    "values, vectors = np.linalg.eig(mult)\n",
    "print(values)\n",
    "print(vectors)\n",
    "\n",
    "print('Best W is:\\n', vectors[:,:1])\n"
   ]
  },
  {
   "cell_type": "markdown",
   "metadata": {},
   "source": [
    "### d) Having found the direction w , find the point on w that best separates the two classes."
   ]
  },
  {
   "cell_type": "code",
   "execution_count": 7,
   "metadata": {},
   "outputs": [
    {
     "data": {
      "image/png": "[encoded data removed]",
      "text/plain": [
       "<Figure size 432x288 with 1 Axes>"
      ]
     },
     "metadata": {
      "needs_background": "light"
     },
     "output_type": "display_data"
    }
   ],
   "source": [
    "import matplotlib.pyplot as plt\n",
    "D1 = np.array([[4,2.9],[3.5,4]])\n",
    "D2 = np.array([[2.5,1],[2,2.1]])\n",
    "plt.scatter(D1[:,0],D1[:,1])\n",
    "plt.scatter(D2[:,0],D2[:,1])\n",
    "w = vectors[:,:1]\n",
    "w = np.array(w)\n",
    "w = w.reshape(1,2)\n",
    "start = [3], [2] # origin point\n",
    "plt.quiver(*start, w[0][0],w[0][1],scale=2)\n",
    "\n",
    "plt.show()"
   ]
  },
  {
   "cell_type": "markdown",
   "metadata": {},
   "source": [
    "## Question 4\n",
    "### a) Compute μ +1 and μ −1 , and B, the between-class scatter matrix."
   ]
  },
  {
   "cell_type": "markdown",
   "metadata": {},
   "source": [
    "$ \\mu_{+1} = \\begin{bmatrix}4/3\\\\4/3\\end{bmatrix} $<br><br>\n",
    "$\\mu_{-1} = \\begin{bmatrix}2.5\\\\2\\end{bmatrix}$<br><br>\n",
    "$\\mu_{+1} - \\mu_{-1} = \\begin{bmatrix}-7/6\\\\-2/3\\end{bmatrix} $<br><br>\n",
    "$B = \\begin{bmatrix}49/36&7/9\\\\7/9&4/9\\end{bmatrix}$\n"
   ]
  },
  {
   "cell_type": "markdown",
   "metadata": {},
   "source": [
    "### b) Compute S +1 and S −1 , and S, the within-class scatter matrix."
   ]
  },
  {
   "cell_type": "code",
   "execution_count": 8,
   "metadata": {},
   "outputs": [
    {
     "name": "stdout",
     "output_type": "stream",
     "text": [
      "S +1=\n",
      " [[ 0.66666667 -0.33333333]\n",
      " [-0.33333333  0.66666667]]\n",
      "\n",
      "\n",
      "S -1=\n",
      " [[0.5 0. ]\n",
      " [0.  0. ]]\n",
      "\n",
      "\n",
      "S = S1 + S -1 =\n",
      " [[ 1.16666667 -0.33333333]\n",
      " [-0.33333333  0.66666667]]\n"
     ]
    }
   ],
   "source": [
    "import numpy as np\n",
    "Z1 = np.array([[-1/3,2/3,-1/3],[-1/3,-1/3,2/3]])\n",
    "S1 = np.dot(Z1,Z1.T)\n",
    "print('S +1=\\n',S1)\n",
    "print('\\n')\n",
    "Z2 = np.array([[-1/2,-1/2],[0,0]])\n",
    "S2 = np.dot(Z2,Z2.T)\n",
    "print('S -1=\\n',S2)\n",
    "print('\\n')\n",
    "S = S1 + S2\n",
    "print('S = S1 + S -1 =\\n',S)"
   ]
  },
  {
   "cell_type": "markdown",
   "metadata": {},
   "source": [
    "### c) Visually sketch the best direction that splits the data into the two classes"
   ]
  },
  {
   "cell_type": "code",
   "execution_count": 9,
   "metadata": {},
   "outputs": [
    {
     "name": "stdout",
     "output_type": "stream",
     "text": [
      "[ 2.91666667e+00 -2.22044605e-16]\n",
      "[[ 0.65079137 -0.49613894]\n",
      " [ 0.7592566   0.86824314]]\n",
      "Best W is:\n",
      " [[0.65079137]\n",
      " [0.7592566 ]]\n"
     ]
    },
    {
     "data": {
      "image/png": "[encoded data removed]",
      "text/plain": [
       "<Figure size 432x288 with 1 Axes>"
      ]
     },
     "metadata": {
      "needs_background": "light"
     },
     "output_type": "display_data"
    }
   ],
   "source": [
    "import matplotlib.pyplot as plt\n",
    "S_inv = np.linalg.inv(S)\n",
    "B = np.array([[49/36, 7/9],[7/9,4/9]])\n",
    "mult = np.dot(S_inv, B)\n",
    "\n",
    "values, vectors = np.linalg.eig(mult)\n",
    "print(values)\n",
    "print(vectors)\n",
    "\n",
    "print('Best W is:\\n', vectors[:,:1])\n",
    "\n",
    "\n",
    "D1 = np.array([[1,1],[2,1],[1,2]])\n",
    "D2 = np.array([[2,2],[3,2]])\n",
    "plt.scatter(D1[:,0],D1[:,1])\n",
    "plt.scatter(D2[:,0],D2[:,1])\n",
    "w = vectors[:,:1]\n",
    "w = np.array(w)\n",
    "w = w.reshape(1,2)\n",
    "start = [1.5], [1.4] # origin point\n",
    "plt.quiver(*start, w[0][0],w[0][1],scale=2)\n",
    "\n",
    "plt.show()"
   ]
  }
 ],
 "metadata": {
  "kernelspec": {
   "display_name": "Python 3",
   "language": "python",
   "name": "python3"
  },
  "language_info": {
   "codemirror_mode": {
    "name": "ipython",
    "version": 3
   },
   "file_extension": ".py",
   "mimetype": "text/x-python",
   "name": "python",
   "nbconvert_exporter": "python",
   "pygments_lexer": "ipython3",
   "version": "3.7.1"
  }
 },
 "nbformat": 4,
 "nbformat_minor": 2
}
